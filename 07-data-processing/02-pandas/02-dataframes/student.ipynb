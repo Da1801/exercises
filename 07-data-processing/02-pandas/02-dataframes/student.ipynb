{
 "cells": [
  {
   "cell_type": "code",
   "execution_count": 4,
   "metadata": {},
   "outputs": [],
   "source": [
    "import pandas as pd\n",
    "\n",
    "# DataFrame Creation\n",
    "data = {\n",
    "    'EmployeeID': [101, 102, 103, 104, 105],\n",
    "    'Name': ['Alice', 'Bob', 'Charlie', 'David', 'Emma'],\n",
    "    'Department': ['HR', 'IT', 'Finance', 'Marketing', 'Sales'],\n",
    "    'Salary': [60000, 75000, 80000, 70000, 65000]\n",
    "}\n",
    "employees = pd.DataFrame(data)"
   ]
  },
  {
   "cell_type": "code",
   "execution_count": 6,
   "metadata": {},
   "outputs": [
    {
     "name": "stdout",
     "output_type": "stream",
     "text": [
      "First 3 rows of the DataFrame:\n",
      "   EmployeeID     Name Department  Salary\n",
      "0         101    Alice         HR   60000\n",
      "1         102      Bob         IT   75000\n",
      "2         103  Charlie    Finance   80000\n",
      "\n"
     ]
    }
   ],
   "source": [
    "# Data Exploration\n",
    "print(\"First 3 rows of the DataFrame:\")\n",
    "print(employees.head(3))  # Display first 3 rows\n",
    "print()"
   ]
  },
  {
   "cell_type": "code",
   "execution_count": 5,
   "metadata": {},
   "outputs": [
    {
     "name": "stdout",
     "output_type": "stream",
     "text": [
      "Summary statistics for the 'Salary' column:\n",
      "count        5.00000\n",
      "mean     70000.00000\n",
      "std       7905.69415\n",
      "min      60000.00000\n",
      "25%      65000.00000\n",
      "50%      70000.00000\n",
      "75%      75000.00000\n",
      "max      80000.00000\n",
      "Name: Salary, dtype: float64\n",
      "\n"
     ]
    }
   ],
   "source": [
    "print(\"Summary statistics for the 'Salary' column:\")\n",
    "print(employees['Salary'].describe())  # Summary statistics for Salary column\n",
    "print()"
   ]
  },
  {
   "cell_type": "code",
   "execution_count": 6,
   "metadata": {},
   "outputs": [
    {
     "name": "stdout",
     "output_type": "stream",
     "text": [
      "Number of employees in each department:\n",
      "Department\n",
      "HR           1\n",
      "IT           1\n",
      "Finance      1\n",
      "Marketing    1\n",
      "Sales        1\n",
      "Name: count, dtype: int64\n",
      "\n"
     ]
    }
   ],
   "source": [
    "print(\"Number of employees in each department:\")\n",
    "print(employees['Department'].value_counts())  # Count of employees in each department\n",
    "print()"
   ]
  },
  {
   "cell_type": "code",
   "execution_count": 7,
   "metadata": {},
   "outputs": [
    {
     "name": "stdout",
     "output_type": "stream",
     "text": [
      "Average salary of employees: 70000.0\n",
      "\n"
     ]
    }
   ],
   "source": [
    "\n",
    "print(\"Average salary of employees:\", employees['Salary'].mean())  # Average salary\n",
    "print()"
   ]
  }
 ],
 "metadata": {
  "kernelspec": {
   "display_name": "Python 3",
   "language": "python",
   "name": "python3"
  },
  "language_info": {
   "codemirror_mode": {
    "name": "ipython",
    "version": 3
   },
   "file_extension": ".py",
   "mimetype": "text/x-python",
   "name": "python",
   "nbconvert_exporter": "python",
   "pygments_lexer": "ipython3",
   "version": "3.12.1"
  }
 },
 "nbformat": 4,
 "nbformat_minor": 2
}
