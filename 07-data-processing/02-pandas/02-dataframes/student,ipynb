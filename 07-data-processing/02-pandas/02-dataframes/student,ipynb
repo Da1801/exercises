# Data Exploration
print("First 3 rows of the DataFrame:")
print(employees.head(3))  # Display first 3 rows
print()