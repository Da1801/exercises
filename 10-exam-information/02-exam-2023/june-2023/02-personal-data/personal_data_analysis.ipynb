{
 "cells": [
  {
   "attachments": {},
   "cell_type": "markdown",
   "metadata": {},
   "source": [
    "You will receive a csv file from us with the name \"personal_data.csv\". \n",
    "The file contains information about people:\n",
    "- Column 1: the person's national register number\n",
    "- Column 2: the person's surname\n",
    "- Column 3: the person's first name\n",
    "\n",
    "A national register number has the following format: \n",
    "- 3 times 2 digits separated by a period; This is the date of birth of the person in the form yy.mm.dd (first two digits are the last 2 digits of the year of birth, then a period, then two digits according to the month of birth, then a period, and then another two digits according to the day of birth)\n",
    "- A dash \"-\"\n",
    "- Three digits: this is a sequential number to distinguish people born on the same day; Women get an even sequence number, men an odd sequence number\n",
    "- One point\n",
    "- Two digits that act as a check digit; How this check is carried out is not relevant to this task\n",
    "A woman born on 28 July 1994 could have the following national registration number."
   ]
  },
  {
   "attachments": {},
   "cell_type": "markdown",
   "metadata": {},
   "source": [
    "Read the file \"personal_data.csv\" in a panda Dataframe named \"data\""
   ]
  },
  {
   "cell_type": "code",
   "execution_count": null,
   "metadata": {},
   "outputs": [],
   "source": []
  },
  {
   "attachments": {},
   "cell_type": "markdown",
   "metadata": {},
   "source": [
    "Check if this is done correctly by showing some of the first rows."
   ]
  },
  {
   "cell_type": "code",
   "execution_count": null,
   "metadata": {},
   "outputs": [],
   "source": []
  },
  {
   "attachments": {},
   "cell_type": "markdown",
   "metadata": {},
   "source": [
    "Change the national register numbers that do not conform to the correct format (for the time being, only consider as good format : 2digits.2digits.2digits-3digits.2digits) by None.\n",
    "Show the first rows again to see if this was successful."
   ]
  },
  {
   "cell_type": "code",
   "execution_count": null,
   "metadata": {},
   "outputs": [],
   "source": []
  },
  {
   "attachments": {},
   "cell_type": "markdown",
   "metadata": {},
   "source": [
    "Change the social security numbers whose first 8 characters do not match a date by None.\n",
    "Show the first rows again to see if this was successful."
   ]
  },
  {
   "cell_type": "code",
   "execution_count": null,
   "metadata": {},
   "outputs": [],
   "source": []
  },
  {
   "attachments": {},
   "cell_type": "markdown",
   "metadata": {},
   "source": [
    "Delete the rows in the dataframe that contain the value None in one of the columns.\n",
    "Show the first rows again to see if this was successful."
   ]
  },
  {
   "cell_type": "code",
   "execution_count": null,
   "metadata": {},
   "outputs": [],
   "source": []
  },
  {
   "attachments": {},
   "cell_type": "markdown",
   "metadata": {},
   "source": [
    "Modify the data frame by adding a column called \"date of birth\" that represents the date of birth as a datetime object.\n",
    "Show the first rows again to see if this was successful."
   ]
  },
  {
   "cell_type": "code",
   "execution_count": null,
   "metadata": {},
   "outputs": [],
   "source": []
  },
  {
   "attachments": {},
   "cell_type": "markdown",
   "metadata": {},
   "source": [
    "Change the data frame by adding a column called \"day\" that represents the day in the week that the person was born; the days are the English names for the days.\n",
    "Show the first rows again to see if this was successful."
   ]
  },
  {
   "cell_type": "code",
   "execution_count": null,
   "metadata": {},
   "outputs": [],
   "source": []
  },
  {
   "attachments": {},
   "cell_type": "markdown",
   "metadata": {},
   "source": [
    "Run the following snippet of code."
   ]
  },
  {
   "cell_type": "code",
   "execution_count": null,
   "metadata": {},
   "outputs": [],
   "source": [
    "data[\"day\"] = pd.Categorical(data[\"day\"],[\"Monday\",\"Tuesday\", \"Wednesday\", \"Thursday\",\"Friday\",\"Saturday\",\"Sunday\"])\n",
    "data.head()"
   ]
  },
  {
   "attachments": {},
   "cell_type": "markdown",
   "metadata": {},
   "source": [
    "Show a visual overview in the form of a histogram of the number of births per day of the week."
   ]
  },
  {
   "cell_type": "code",
   "execution_count": null,
   "metadata": {},
   "outputs": [],
   "source": []
  }
 ],
 "metadata": {
  "kernelspec": {
   "display_name": "base",
   "language": "python",
   "name": "python3"
  },
  "language_info": {
   "name": "python",
   "version": "3.9.13"
  },
  "orig_nbformat": 4
 },
 "nbformat": 4,
 "nbformat_minor": 2
}
